{
  "cells": [
    {
      "attachments": {},
      "cell_type": "markdown",
      "metadata": {
        "id": "KJqp9AANOCtf"
      },
      "source": [
        "<img src=\"https://raw.githubusercontent.com/andre-marcos-perez/ebac-course-utils/main/media/logo/newebac_logo_black_half.png\" alt=\"ebac-logo\">\n",
        "\n",
        "---\n",
        "\n",
        "# **Módulo** | Pipeline de Dados do Telegram II\n",
        "Caderno de **Exercícios**<br> \n",
        "Professor [André Perez](https://www.linkedin.com/in/andremarcosperez/) <br>\n",
        "Aluno [Jean Matheus](https://www.linkedin.com/in/jean-matheus-sm/)\n",
        "\n",
        "---"
      ]
    },
    {
      "attachments": {},
      "cell_type": "markdown",
      "metadata": {
        "id": "d9jDtUbDOE1-"
      },
      "source": [
        "# **Tópicos**\n",
        "\n",
        "<ol type=\"1\">\n",
        "  <li>Ingestão;</li>\n",
        "  <li>ETL;</li>\n",
        "  <li>Apresentação;</li>\n",
        "  <li>Storytelling.</li>\n",
        "</ol>"
      ]
    },
    {
      "attachments": {},
      "cell_type": "markdown",
      "metadata": {
        "id": "SmoHgt-lwkpD"
      },
      "source": [
        "---"
      ]
    },
    {
      "attachments": {},
      "cell_type": "markdown",
      "metadata": {
        "id": "GABI6OW8OfQ2"
      },
      "source": [
        "# **Exercícios**"
      ]
    },
    {
      "attachments": {},
      "cell_type": "markdown",
      "metadata": {
        "id": "ne7Ay0HKaGSv"
      },
      "source": [
        "## 1\\. Ingestão"
      ]
    },
    {
      "attachments": {},
      "cell_type": "markdown",
      "metadata": {
        "id": "C4_2Q6VxE7bZ"
      },
      "source": [
        "1.1. Crie um `bucket` no `AWS S3` para o armazenamento de dados crus, não se esqueça de adicionar o sufixo `-raw`."
      ]
    },
    {
      "attachments": {},
      "cell_type": "markdown",
      "metadata": {
        "id": "OFamvPQdFJ9V"
      },
      "source": [
        "1.2. Crie uma função no `AWS Lambda` para recebimento das mensagens e armazenamento no formato JSON no `bucket` de dados crus. Não se esqueça de configurar as variáveis de ambiente e de adicionar as permissão de interação com `AWS S3` no `AWS IAM`."
      ]
    },
    {
      "attachments": {},
      "cell_type": "markdown",
      "metadata": {
        "id": "E2E14I2YFkUW"
      },
      "source": [
        "> **Nota**: Para testar a função com evento do próprio `AWS Lambda`, substitua o código `message = json.loads(event[\"body\"])` por `message = event`. Lembre-se que o primeiro só faz sentido na integração com o `AWS API Gateway`."
      ]
    },
    {
      "cell_type": "code",
      "execution_count": 2,
      "metadata": {},
      "outputs": [],
      "source": [
        "from getpass import getpass\n",
        "\n",
        "token = getpass()"
      ]
    },
    {
      "cell_type": "code",
      "execution_count": 3,
      "metadata": {},
      "outputs": [],
      "source": [
        "import json\n",
        "\n",
        "base_url = f'https://api.telegram.org/bot{token}'"
      ]
    },
    {
      "cell_type": "code",
      "execution_count": 4,
      "metadata": {},
      "outputs": [
        {
          "name": "stdout",
          "output_type": "stream",
          "text": [
            "{\n",
            "  \"ok\": true,\n",
            "  \"result\": {\n",
            "    \"id\": 6090177567,\n",
            "    \"is_bot\": true,\n",
            "    \"first_name\": \"jm_ebac_bot\",\n",
            "    \"username\": \"jm_ebac_bot\",\n",
            "    \"can_join_groups\": false,\n",
            "    \"can_read_all_group_messages\": false,\n",
            "    \"supports_inline_queries\": false\n",
            "  }\n",
            "}\n"
          ]
        }
      ],
      "source": [
        "import requests\n",
        "\n",
        "response = requests.get(url=f'{base_url}/getMe')\n",
        "\n",
        "print(json.dumps(json.loads(response.text), indent=2))"
      ]
    },
    {
      "cell_type": "code",
      "execution_count": 1,
      "metadata": {},
      "outputs": [],
      "source": [
        "import os\n",
        "import json\n",
        "import logging\n",
        "from datetime import datetime, timezone, timedelta\n",
        "\n",
        "import boto3\n",
        "\n",
        "def lambda_handler(event: dict, context: dict) -> dict:\n",
        "\n",
        "\n",
        "    # variavéis de ambiente\n",
        "\n",
        "    BUCKET = os.environ['AWS_S3_BUCKET']\n",
        "    TELEGRAM_CHAT_ID = int(os.environ['TELEGRAM_CHAT_ID'])\n",
        "\n",
        "    # variáveis lógicas\n",
        "\n",
        "    tzinfo = timezone(offset=timedelta(hours=-3))\n",
        "    date = datetime.now(tzinfo).strftime('%Y-%m-%d')\n",
        "    timestamp = datetime.now(tzinfo).strftime('%Y%m%d%H%M%S%f')\n",
        "\n",
        "    filename = f'{timestamp}.json'\n",
        "\n",
        "    # código principal\n",
        "\n",
        "    client = boto3.client('s3')\n",
        "\n",
        "    try:\n",
        "\n",
        "        message = json.loads(event['body'])\n",
        "        chat_id = message['message']['chat']['id']\n",
        "\n",
        "        if chat_id == TELEGRAM_CHAT_ID:\n",
        "\n",
        "            with open(f'/tmp/{filename}', mode='w', encoding='utf8') as fp:\n",
        "                json.dump(message,fp)\n",
        "\n",
        "            client.upload_file(f'/tmp/{filename}', BUCKET, f'telegram/context_date={date}/{filename}')\n",
        "\n",
        "    except Exception as exc:\n",
        "        logging.error(msg=exc)\n",
        "        return dict(statusCode=\"500\")\n",
        "\n",
        "    else:\n",
        "        return dict(statusCode=\"200\")"
      ]
    },
    {
      "attachments": {},
      "cell_type": "markdown",
      "metadata": {
        "id": "JoZx3o2QGIx-"
      },
      "source": [
        "1.3. Crie uma API no `AWS API Gateway` a conecte a função do `AWS Lambda`, conforme apresentado na aula."
      ]
    },
    {
      "attachments": {},
      "cell_type": "markdown",
      "metadata": {
        "id": "VRUI7edtGrot"
      },
      "source": [
        "> **Nota**: não disponibilize o endereço da API gerada."
      ]
    },
    {
      "cell_type": "code",
      "execution_count": 5,
      "metadata": {},
      "outputs": [],
      "source": [
        "aws_api_gateway_url = getpass()"
      ]
    },
    {
      "attachments": {},
      "cell_type": "markdown",
      "metadata": {
        "id": "2QhB4SmjGVDZ"
      },
      "source": [
        "1.4. Configura o *webhook* do *bot* através do método `setWebhook` da API de *bots* do **Telegram**. utilize o endereço da API criada no `AWS API Gateway`. Utilize o método `getWebhookInfo` para consultar a integração."
      ]
    },
    {
      "attachments": {},
      "cell_type": "markdown",
      "metadata": {
        "id": "w6axVNYxG1I0"
      },
      "source": [
        "> **Nota**: não disponibilize o *token* de acesso ao seu *bot* da API de *bots* do **Telegram**."
      ]
    },
    {
      "cell_type": "code",
      "execution_count": 6,
      "metadata": {},
      "outputs": [
        {
          "name": "stdout",
          "output_type": "stream",
          "text": [
            "{\n",
            "  \"ok\": true,\n",
            "  \"result\": true,\n",
            "  \"description\": \"Webhook was set\"\n",
            "}\n"
          ]
        }
      ],
      "source": [
        "response = requests.get(url=f'{base_url}/setWebhook?url={aws_api_gateway_url}')\n",
        "\n",
        "print(json.dumps(json.loads(response.text), indent=2))"
      ]
    },
    {
      "cell_type": "code",
      "execution_count": 8,
      "metadata": {},
      "outputs": [
        {
          "name": "stdout",
          "output_type": "stream",
          "text": [
            "{\n",
            "  \"ok\": true,\n",
            "  \"result\": {\n",
            "    \"url\": \"https://7q4f6p210e.execute-api.sa-east-1.amazonaws.com/dev\",\n",
            "    \"has_custom_certificate\": false,\n",
            "    \"pending_update_count\": 0,\n",
            "    \"last_error_date\": 1685386028,\n",
            "    \"last_error_message\": \"Wrong response from the webhook: 500 Internal Server Error\",\n",
            "    \"max_connections\": 40,\n",
            "    \"ip_address\": \"18.231.22.79\"\n",
            "  }\n",
            "}\n"
          ]
        }
      ],
      "source": [
        "response = requests.get(url=f'{base_url}/getWebhookInfo')\n",
        "\n",
        "print(json.dumps(json.loads(response.text), indent=2))"
      ]
    },
    {
      "attachments": {},
      "cell_type": "markdown",
      "metadata": {
        "id": "kQ-wge9yHCC3",
        "tags": [
          "parameters"
        ]
      },
      "source": [
        "## 2\\. ETL"
      ]
    },
    {
      "attachments": {},
      "cell_type": "markdown",
      "metadata": {
        "id": "rCCWZtBCHCC7"
      },
      "source": [
        "2.1. Crie um `bucket` no `AWS S3` para o armazenamento de dados enriquecidos, não se esqueça de adicionar o sufixo `-enriched`."
      ]
    },
    {
      "attachments": {},
      "cell_type": "markdown",
      "metadata": {
        "id": "cEb2SIgjHg5e"
      },
      "source": [
        "2.2. Cria uma função no `AWS Lambda` para processar as mensagens JSON de uma única partição do dia anterior (D-1), armazenadas no *bucket* de dados crus. Salve o resultado em um único arquivo PARQUET, também particionado por dia. Não se esqueça de configurar as variáveis de ambiente, de adicionar as permissão de interação com `AWS S3` no `AWS IAM`, de configurar o *timeout* e de adicionar a *layer* com o código do pacote Python PyArrow."
      ]
    },
    {
      "attachments": {},
      "cell_type": "markdown",
      "metadata": {
        "id": "Yf5a_JKkIOdS"
      },
      "source": [
        "> **Nota**: Para testar a função, substitua o código `date = (datetime.now(tzinfo) - timedelta(days=1)).strftime('%Y-%m-%d')` por `date = (datetime.now(tzinfo) - timedelta(days=0)).strftime('%Y-%m-%d')`, permitindo assim o processamento de mensagens de um mesmo dia."
      ]
    },
    {
      "attachments": {},
      "cell_type": "markdown",
      "metadata": {
        "id": "exu8rdDHHT_h"
      },
      "source": [
        "2.3. Crie uma regra no `AWS Event Bridge` para executar a função do `AWS Lambda` todo dia a meia noite no horário de Brasília (GMT-3)."
      ]
    },
    {
      "cell_type": "code",
      "execution_count": null,
      "metadata": {},
      "outputs": [],
      "source": [
        "import os\n",
        "import json\n",
        "import logging\n",
        "from datetime import datetime, timedelta, timezone\n",
        "\n",
        "import boto3\n",
        "import pyarrow as pa\n",
        "import pyarrow.parquet as pq\n",
        "\n",
        "def lambda_handler(event: dict, context: dict) -> bool:\n",
        "\n",
        "    # variável de ambiente\n",
        "    RAW_BUCKET = os.environ['AWS_S3_BUCKET']\n",
        "    ENRICHED_BUCKET = os.environ['AWS_S3_ENRICHED']\n",
        "\n",
        "    # variável lógica\n",
        "    tzinfo = timezone(offset=timedelta(hours=-3))\n",
        "    date = (datetime.now(tzinfo)- timedelta(days=0)).strftime('%Y-%m-%d')  #day  = (1: dia anterior, 0: dia atual)\n",
        "    timestamp = datetime.now(tzinfo).strftime('%Y%m%d%H%M%S%f')\n",
        "\n",
        "    # código principal\n",
        "    table = None\n",
        "    client = boto3.client('s3')\n",
        "\n",
        "    try:\n",
        "\n",
        "        response = client.list_objects_v2(Bucket=RAW_BUCKET, Prefix=f'telegram/context_date={date}')\n",
        "\n",
        "        for content in response['Contents']:\n",
        "\n",
        "            key = content['Key']\n",
        "            client.download_file(RAW_BUCKET, key, f\"/tmp/{key.split('/')[-1]}\")\n",
        "\n",
        "            with open(f\"/tmp/{key.split('/')[-1]}\", mode='r', encoding='utf8') as fp:\n",
        "\n",
        "                data = json.load(fp)\n",
        "                data = data['message']\n",
        "\n",
        "            parsed_data = parse_data(data=data)\n",
        "            iter_table = pa.Table.from_pydict(mapping=parsed_data)\n",
        "\n",
        "            if table:\n",
        "\n",
        "                table = pa.concat_tables([table, iter_table])\n",
        "\n",
        "            else:\n",
        "\n",
        "                table = iter_table\n",
        "                iter_table = None\n",
        "\n",
        "        pq.write_table(table=table, where=f'/tmp/{timestamp}.parquet')\n",
        "        client.upload_file(f'/tmp/{timestamp}.parquet', ENRICHED_BUCKET, f'telegram/context_date={date}/{timestamp}.parquet')\n",
        "\n",
        "        return True\n",
        "    \n",
        "    except Exception as exc:\n",
        "        logging.error(msg=exc)\n",
        "\n",
        "        return False\n",
        "        "
      ]
    },
    {
      "cell_type": "code",
      "execution_count": null,
      "metadata": {},
      "outputs": [],
      "source": [
        "def parse_data(data: dict) -> dict:\n",
        "    date = datetime.now().strftime('%Y-%m-%d')\n",
        "    timestamp = datetime.now().strftime('%Y-%m-%d %H:%M:%S')\n",
        "\n",
        "    parsed_data = dict()\n",
        "\n",
        "    for key, value in data.items():\n",
        "\n",
        "        if key == 'from':\n",
        "            for k, v in data[key].items():\n",
        "                if k in ['id', 'is_bot','first_name']:\n",
        "                    parsed_data[f'{key if key == \"chat\" else \"user\"}_{k}'] = [v]\n",
        "\n",
        "        elif key == 'chat':\n",
        "            for k, v in data[key].items():\n",
        "                if k in ['id', 'type']:\n",
        "                    parsed_data[f\"{key if key == 'chat' else 'user'}_{k}\"] = [v]\n",
        "\n",
        "        elif key in ['message_id', 'date', 'text']:\n",
        "          parsed_data[key] = [value]\n",
        "\n",
        "    if not 'text' in parsed_data.keys():\n",
        "        #parsed_data['text'] = [None] Não funciona\n",
        "        parsed_data['text'] = ['']  #funcionou\n",
        "\n",
        "    return parsed_data\n"
      ]
    },
    {
      "attachments": {},
      "cell_type": "markdown",
      "metadata": {
        "id": "7v7499xfIjrn"
      },
      "source": [
        "## 3\\. Apresentação"
      ]
    },
    {
      "attachments": {},
      "cell_type": "markdown",
      "metadata": {
        "id": "sN0dvM8tIviK"
      },
      "source": [
        "3.1. Cria a tabela no `AWS Athena` que aponte para os dados armazenados no bucket enriquecido do `AWS S3`."
      ]
    },
    {
      "attachments": {},
      "cell_type": "markdown",
      "metadata": {
        "id": "w3Lf4CPsI--8"
      },
      "source": [
        "3.2. Execute o comando `MSCK REPAIR TABLE <nome-tabela>` para carregar as partições."
      ]
    },
    {
      "attachments": {},
      "cell_type": "markdown",
      "metadata": {
        "id": "5o3mNIKiJKqL"
      },
      "source": [
        "3.3. Execute as consultas SQL para explorar os dados."
      ]
    },
    {
      "attachments": {},
      "cell_type": "markdown",
      "metadata": {},
      "source": [
        ">Sugestão para onde pode ser usado o chatbot e os dados armazenados"
      ]
    },
    {
      "cell_type": "markdown",
      "metadata": {},
      "source": [
        "### Consultas SQL para exploração dos dados extraidos\n",
        "\n",
        "* Criando tabela no AWS Athena\n",
        "```sql\n",
        "CREATE EXTERNAL TABLE `telegram`(\n",
        "  `message_id` bigint, \n",
        "  `user_id` bigint, \n",
        "  `user_is_bot` boolean, \n",
        "  `user_first_name` string, \n",
        "  `chat_id` bigint, \n",
        "  `chat_type` string, \n",
        "  `text` string, \n",
        "  `date` bigint)\n",
        "PARTITIONED BY ( \n",
        "  `context_date` date)\n",
        "ROW FORMAT SERDE \n",
        "  'org.apache.hadoop.hive.ql.io.parquet.serde.ParquetHiveSerDe' \n",
        "STORED AS INPUTFORMAT \n",
        "  'org.apache.hadoop.hive.ql.io.parquet.MapredParquetInputFormat' \n",
        "OUTPUTFORMAT \n",
        "  'org.apache.hadoop.hive.ql.io.parquet.MapredParquetOutputFormat'\n",
        "LOCATION\n",
        "  's3://ebac-jean-m44-datalake-enriched/telegram/'\n",
        "\n",
        "```\n",
        "\n",
        "* Adicionando uma partição (de uma nova data a tabela original)\n",
        "```sql\n",
        "MSCK REPAIR TABLE `telegram`;\n",
        "```\n",
        "\n",
        "* Quantidades de mensagens por dia\n",
        "```sql\n",
        "SELECT context_date, count(1) AS \"message_amount\"\n",
        "FROM \"telegram\"\n",
        "GROUP BY context_date\n",
        "ORDER BY context_date DESC\n",
        "```\n",
        "![sql1](https://github.com/jeanmatheuss/projeto-final-EBAC/blob/main/img/sql1.png?raw=true)\n",
        "\n",
        "* Quantidade de mensagens por usuário por dia\n",
        "```sql\n",
        "SELECT user_id, user_first_name, context_date, count(1) AS \"message_amount\"\n",
        "FROM \"telegram\"\n",
        "GROUP BY user_id, user_first_name, context_date\n",
        "ORDER BY context_date DESC\n",
        "```\n",
        "![sql2](https://github.com/jeanmatheuss/projeto-final-EBAC/blob/main/img/sql2.png?raw=true)\n",
        "\n",
        "* Média do tamanho das mensagens por usuário\n",
        "```sql\n",
        "SELECT user_id, user_first_name, context_date, CAST(AVG(length(text)) AS INT) AS \"avg_msg_length\"\n",
        "FROM \"telegram\"\n",
        "GROUP BY user_id, user_first_name, context_date\n",
        "ORDER BY context_date DESC\n",
        "```\n",
        "![sql3](https://github.com/jeanmatheuss/projeto-final-EBAC/blob/main/img/sql3.png?raw=true)\n",
        "\n",
        "* Quantidade de mensagens por hora por dia da semana por número da semana\n",
        "```sql\n",
        "WITH \n",
        "parsed_date_cte AS (\n",
        "        SELECT \n",
        "            *,\n",
        "            CAST(date_format(from_unixtime(\"date\"), '%Y-%m-%d %H:%i:%s') AS timestamp) AS parsed_date\n",
        "        FROM \"telegram\"\n",
        "),\n",
        "hour_week_cte AS (\n",
        "        SELECT\n",
        "            *,\n",
        "            EXTRACT(hour FROM parsed_date) AS parsed_date_hour,\n",
        "            EXTRACT(dow FROM parsed_date) AS parsed_date_weekday,\n",
        "            EXTRACT(week FROM parsed_date) AS parsed_date_weeknum\n",
        "        FROM parsed_date_cte\n",
        ")\n",
        "SELECT parsed_date_hour, parsed_date_weekday, parsed_date_weeknum, count(1) AS \"message_amount\"\n",
        "FROM hour_week_cte\n",
        "GROUP BY parsed_date_hour, parsed_date_weekday, parsed_date_weeknum\n",
        "ORDER BY  parsed_date_weekday, parsed_date_weeknum\n",
        "```\n",
        "![sql4](https://github.com/jeanmatheuss/projeto-final-EBAC/blob/main/img/sql4.png?raw=true)"
      ]
    },
    {
      "attachments": {},
      "cell_type": "markdown",
      "metadata": {
        "id": "TwA9AmeSInp8"
      },
      "source": [
        "## 4\\. Storytelling"
      ]
    },
    {
      "cell_type": "markdown",
      "metadata": {},
      "source": [
        "# Utilizando Chatbots do Telegram para Aperfeiçoar o Atendimento ao Cliente\n",
        "\n",
        "## Introdução\n",
        "\n",
        "Os chatbots, uma forma de inteligência artificial (IA) conversacional, estão desempenhando um papel crescente na interação entre empresas e clientes. Neste artigo, exploraremos como os chatbots podem ser uma ferramenta valiosa para aprimorar o atendimento ao cliente e fornecer uma visão detalhada de como aproveitar os chatbots do Telegram, juntamente com sua API, para criar um serviço eficaz.\n",
        "\n",
        "### O Que é um Chatbot?\n",
        "\n",
        "Antes de entrarmos em detalhes, é fundamental entender o que é um chatbot. Um chatbot é um programa de computador projetado para interagir com humanos por meio de conversas textuais ou faladas. Eles podem automatizar tarefas, responder a perguntas, coletar informações e até mesmo realizar transações. Os chatbots estão se tornando cada vez mais comuns em diversas indústrias, proporcionando eficiência e melhorias significativas na experiência do cliente.\n",
        "\n",
        "### Por que usar um Chatbot?\n",
        "\n",
        "Imagine uma empresa que deseja melhorar o atendimento ao cliente. Ela enfrenta desafios, como fornecer respostas rápidas a perguntas frequentes e gerenciar consultas de clientes em grande escala. É aqui que um chatbot entra em jogo. Os chatbots podem ser implementados em sites, aplicativos móveis ou plataformas de mensagens, como o Telegram, para fornecer assistência imediata e personalizada aos clientes. Isso economiza tempo, aumenta a satisfação do cliente e permite que os agentes humanos se concentrem em questões mais complexas."
      ]
    },
    {
      "cell_type": "markdown",
      "metadata": {},
      "source": [
        "## Etapas do Projeto\n",
        "\n",
        "Para implementar com sucesso um chatbot no Telegram, é necessário seguir algumas etapas fundamentais:\n",
        "\n",
        "Ingestão de Dados: As mensagens capturadas pelo bot são ingeridas por meio da API web de bots do Telegram, que fornece os dados no formato JSON.\n",
        "\n",
        "ETL (Extração, Transformação e Carregamento): Os dados ingeridos são então submetidos a um processo de ETL para limpar, transformar e preparar os dados para análise.\n",
        "\n",
        "Apresentação dos Dados: Após o ETL, os dados são armazenados em um formato adequado para análise. Aqui, podem ser usadas ferramentas de armazenamento de dados, como bancos de dados ou sistemas de armazenamento em nuvem.\n",
        "\n",
        "## Exploração dos Dados\n",
        "\n",
        "Nesta etapa, exploraremos as fontes e destinos dos dados:\n",
        "\n",
        "Fonte: Os dados são provenientes da API de bots do Telegram, acessados por meio do método \"getUpdates\". Esses dados incluem mensagens de texto, informações do usuário, horários e muito mais.\n",
        "\n",
        "Destino: Os dados são armazenados em um banco de dados ou sistema de armazenamento em nuvem (AWS S3). A análise dos dados é realizada por meio de consultas SQL (AWS Athena) e visualizações para extrair informações valiosas."
      ]
    },
    {
      "cell_type": "markdown",
      "metadata": {},
      "source": [
        "------"
      ]
    },
    {
      "cell_type": "markdown",
      "metadata": {},
      "source": [
        "## Contexto\n",
        "Neste projeto desenvolveremos um chatbot para o Telemgram que capta mensagens via API do Telegram para captar mensagens dos usuários, com isso em mente podemos utilizar esse bot para diversas funcionalidades, como por exemplo uma empresa que deseja monitorar as mensagens para obter alguns insights que possam ajudar a melhorar a experiência do usuário, monitorar sua satisfação com o serviço fornecido e gerar informações úteis para a empresa.\n",
        "\n",
        ">ChatBot Telegram: é uma ferramenta usada para interagir com o usuário com regras pré progamadas para execução de tarefas simples."
      ]
    },
    {
      "cell_type": "markdown",
      "metadata": {},
      "source": [
        "![img](https://github.com/jeanmatheuss/projeto-final-EBAC/blob/main/img/img_arquitetura.png?raw=true)"
      ]
    },
    {
      "cell_type": "markdown",
      "metadata": {},
      "source": [
        "#### Passos para Configuração\n",
        "\n",
        "1.Criamos um bot no Telegram e obtviemos as credenciais necessárias.   \n",
        "\n",
        "2.Configure um webhook para redirecionar as mensagens para a API web criada no AWS API Gateway. \n",
        "\n",
        "3.Configure o AWS API Gateway para receber os dados redirecionados e encaminhá-los ao AWS Lambda.  \n",
        "\n",
        "4.Crie uma função no AWS Lambda para processar e armazenar as mensagens no formato JSON. \n",
        "\n",
        "5.Configure permissões apropriadas para que o AWS Lambda possa acessar o AWS S3.  \n",
        "\n",
        "6.Crie um bucket no AWS S3 para armazenar as mensagens capturadas.  \n",
        "\n",
        "7.Teste o fluxo completo: envie mensagens ao bot do Telegram e verifique se elas são capturadas, processadas e armazenadas corretamente no AWS S3. \n",
        "\n"
      ]
    },
    {
      "cell_type": "markdown",
      "metadata": {},
      "source": [
        "### Extração e consultas no SQL\n",
        "\n",
        "Agora extraimos as mensagens obtidas e que foram armazenadas no AWS S3, usando o AWS Athena para essas consultas"
      ]
    }
  ],
  "metadata": {
    "colab": {
      "collapsed_sections": [],
      "name": "modulo_44_exercicio.ipynb",
      "provenance": [],
      "toc_visible": true
    },
    "kernelspec": {
      "display_name": "Python 3",
      "name": "python3"
    },
    "language_info": {
      "codemirror_mode": {
        "name": "ipython",
        "version": 3
      },
      "file_extension": ".py",
      "mimetype": "text/x-python",
      "name": "python",
      "nbconvert_exporter": "python",
      "pygments_lexer": "ipython3",
      "version": "3.10.11"
    }
  },
  "nbformat": 4,
  "nbformat_minor": 0
}
